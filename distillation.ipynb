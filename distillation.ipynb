{
 "cells": [
  {
   "cell_type": "markdown",
   "metadata": {
    "id": "NSrmFuEHZbNm"
   },
   "source": [
    "# CS 229 Project\n",
    "# Knowledge Distillation Training a Compact Student Model from a Large Teacher\n",
    "## Authors: Burak Balta & Demetreous Stillman\n"
   ]
  },
  {
   "cell_type": "code",
   "execution_count": 76,
   "metadata": {
    "id": "Jtm4LAE5Z8Io"
   },
   "outputs": [],
   "source": [
    "# Import Libraries\n",
    "import kagglehub\n",
    "import torch\n",
    "from torch import nn\n",
    "import torch.nn.functional as F\n",
    "from torch.utils.data import DataLoader, Dataset\n",
    "from transformers import BertTokenizer, BertModel, BertForSequenceClassification, RobertaTokenizer, RobertaForSequenceClassification\n",
    "from sklearn.model_selection import train_test_split\n",
    "from sklearn.metrics import accuracy_score, classification_report\n",
    "import pandas as pd\n",
    "import numpy as np\n",
    "import matplotlib.pyplot as plt\n",
    "import ast\n",
    "import os\n",
    "from torch.optim import AdamW\n",
    "from sklearn.utils.class_weight import compute_class_weight\n",
    "from tqdm import tqdm\n",
    "from transformers import DistilBertTokenizerFast, DistilBertForSequenceClassification\n",
    "from sklearn.metrics import f1_score, confusion_matrix, ConfusionMatrixDisplay"
   ]
  },
  {
   "cell_type": "markdown",
   "metadata": {
    "id": "SQr5ldpQbmmp"
   },
   "source": [
    "## Load and Preprocess the Data"
   ]
  },
  {
   "cell_type": "code",
   "execution_count": 77,
   "metadata": {
    "colab": {
     "base_uri": "https://localhost:8080/",
     "height": 435
    },
    "id": "bU9rh1TJZOEA",
    "outputId": "b80e0dce-a13a-43a4-f67e-490d948d5f69"
   },
   "outputs": [
    {
     "name": "stdout",
     "output_type": "stream",
     "text": [
      "Before dropping duplicates: (1306122, 3)\n",
      "Balanced dataset shape: (100000, 3)\n",
      "target\n",
      "1    50000\n",
      "0    50000\n",
      "Name: count, dtype: int64\n",
      "After dropping duplicates: (100000, 3)\n"
     ]
    },
    {
     "data": {
      "application/vnd.microsoft.datawrangler.viewer.v0+json": {
       "columns": [
        {
         "name": "index",
         "rawType": "int64",
         "type": "integer"
        },
        {
         "name": "qid",
         "rawType": "object",
         "type": "string"
        },
        {
         "name": "question_text",
         "rawType": "object",
         "type": "string"
        },
        {
         "name": "target",
         "rawType": "int32",
         "type": "integer"
        }
       ],
       "ref": "cdb33d3b-2695-46cf-b935-7d8374c0e43f",
       "rows": [
        [
         "0",
         "731308c23db87320d400",
         "As a man, how does it feel being penetrated by a penis?",
         "1"
        ],
        [
         "1",
         "f052b4a4078424107222",
         "In 200 years, will we only build statues for vegetarians?",
         "1"
        ],
        [
         "2",
         "5f38763387504c2c52bc",
         "How can women believe in themselves without needing approval from others?",
         "0"
        ],
        [
         "3",
         "998be6e6f3d413ea3814",
         "Why are Americans so proud of their country when they don't even get help when they need it?",
         "1"
        ],
        [
         "4",
         "6145928e2d3fe6038dc2",
         "Why is god such a cunt?",
         "1"
        ]
       ],
       "shape": {
        "columns": 3,
        "rows": 5
       }
      },
      "text/html": [
       "<div>\n",
       "<style scoped>\n",
       "    .dataframe tbody tr th:only-of-type {\n",
       "        vertical-align: middle;\n",
       "    }\n",
       "\n",
       "    .dataframe tbody tr th {\n",
       "        vertical-align: top;\n",
       "    }\n",
       "\n",
       "    .dataframe thead th {\n",
       "        text-align: right;\n",
       "    }\n",
       "</style>\n",
       "<table border=\"1\" class=\"dataframe\">\n",
       "  <thead>\n",
       "    <tr style=\"text-align: right;\">\n",
       "      <th></th>\n",
       "      <th>qid</th>\n",
       "      <th>question_text</th>\n",
       "      <th>target</th>\n",
       "    </tr>\n",
       "  </thead>\n",
       "  <tbody>\n",
       "    <tr>\n",
       "      <th>0</th>\n",
       "      <td>731308c23db87320d400</td>\n",
       "      <td>As a man, how does it feel being penetrated by...</td>\n",
       "      <td>1</td>\n",
       "    </tr>\n",
       "    <tr>\n",
       "      <th>1</th>\n",
       "      <td>f052b4a4078424107222</td>\n",
       "      <td>In 200 years, will we only build statues for v...</td>\n",
       "      <td>1</td>\n",
       "    </tr>\n",
       "    <tr>\n",
       "      <th>2</th>\n",
       "      <td>5f38763387504c2c52bc</td>\n",
       "      <td>How can women believe in themselves without ne...</td>\n",
       "      <td>0</td>\n",
       "    </tr>\n",
       "    <tr>\n",
       "      <th>3</th>\n",
       "      <td>998be6e6f3d413ea3814</td>\n",
       "      <td>Why are Americans so proud of their country wh...</td>\n",
       "      <td>1</td>\n",
       "    </tr>\n",
       "    <tr>\n",
       "      <th>4</th>\n",
       "      <td>6145928e2d3fe6038dc2</td>\n",
       "      <td>Why is god such a cunt?</td>\n",
       "      <td>1</td>\n",
       "    </tr>\n",
       "  </tbody>\n",
       "</table>\n",
       "</div>"
      ],
      "text/plain": [
       "                    qid                                      question_text  \\\n",
       "0  731308c23db87320d400  As a man, how does it feel being penetrated by...   \n",
       "1  f052b4a4078424107222  In 200 years, will we only build statues for v...   \n",
       "2  5f38763387504c2c52bc  How can women believe in themselves without ne...   \n",
       "3  998be6e6f3d413ea3814  Why are Americans so proud of their country wh...   \n",
       "4  6145928e2d3fe6038dc2                            Why is god such a cunt?   \n",
       "\n",
       "   target  \n",
       "0       1  \n",
       "1       1  \n",
       "2       0  \n",
       "3       1  \n",
       "4       1  "
      ]
     },
     "execution_count": 77,
     "metadata": {},
     "output_type": "execute_result"
    }
   ],
   "source": [
    "# Load Quora dataset\n",
    "\n",
    "df = pd.read_csv(\"train.csv\")\n",
    "df.dropna(inplace=True)\n",
    "df.reset_index(drop=True, inplace=True)\n",
    "\n",
    "print(\"Before dropping duplicates:\", df.shape)\n",
    "\n",
    "df.drop_duplicates(subset=\"question_text\", inplace=True)\n",
    "df.reset_index(drop=True, inplace=True)\n",
    "class_0 = df[df[\"target\"] == 0].sample(n=50000, random_state=42)\n",
    "class_1 = df[df[\"target\"] == 1].sample(n=50000, random_state=42)\n",
    "\n",
    "# Combine and shuffle\n",
    "df = pd.concat([class_0, class_1])\n",
    "df = df.sample(frac=1, random_state=42).reset_index(drop=True)\n",
    "#df = df.head(100000)\n",
    "print(\"Balanced dataset shape:\", df.shape)\n",
    "print(df[\"target\"].value_counts())\n",
    "print(\"After dropping duplicates:\", df.shape)\n",
    "\n",
    "df[\"target\"] = df[\"target\"].astype(int)\n",
    "\n",
    "df.head()"
   ]
  },
  {
   "cell_type": "markdown",
   "metadata": {
    "id": "nKVM52v57WvU"
   },
   "source": [
    "## Train Large Teacher Model"
   ]
  },
  {
   "cell_type": "code",
   "execution_count": 78,
   "metadata": {
    "id": "72QqOQT6_Wc9"
   },
   "outputs": [],
   "source": [
    "# test train split\n",
    "X_train, X_test, y_train, y_test = train_test_split(df['question_text'], df['target'], test_size=0.2, random_state=42, stratify=df['target'])\n"
   ]
  },
  {
   "cell_type": "code",
   "execution_count": 79,
   "metadata": {
    "id": "v4yeE-ubFsrQ"
   },
   "outputs": [],
   "source": [
    "# Wraps tokenized inputs and labels for Pytorch\n",
    "class NewsDataset(Dataset):\n",
    "    def __init__(self, encodings, labels):\n",
    "        self.enc = encodings\n",
    "        self.lab = torch.tensor(labels.values, dtype=torch.long)\n",
    "\n",
    "    def __getitem__(self, idx):\n",
    "        item = {k: torch.tensor(v[idx]) for k, v in self.enc.items()}\n",
    "        item[\"labels\"] = self.lab[idx]\n",
    "        return item\n",
    "\n",
    "    def __len__(self):\n",
    "        return len(self.lab)\n",
    "\n",
    "device = torch.device(\"cuda\" if torch.cuda.is_available() else \"cpu\")\n",
    "\n"
   ]
  },
  {
   "cell_type": "code",
   "execution_count": 80,
   "metadata": {
    "id": "lH3YzdMCEZiH"
   },
   "outputs": [],
   "source": [
    "# Tokenize\n",
    "\n",
    "tok_t   = BertTokenizer.from_pretrained(\"bert-base-uncased\")\n",
    "train_t = tok_t(list(X_train), truncation=True, padding=True, max_length=512)\n",
    "test_t  = tok_t(list(X_test ), truncation=True, padding=True, max_length=512)\n",
    "\n",
    "ds_train_t = NewsDataset(train_t, y_train)\n",
    "ds_test_t  = NewsDataset(test_t , y_test )\n",
    "\n",
    "train_loader = DataLoader(ds_train_t, batch_size=16, shuffle=True)\n",
    "test_loader  = DataLoader(ds_test_t , batch_size=16)"
   ]
  },
  {
   "cell_type": "code",
   "execution_count": 81,
   "metadata": {
    "colab": {
     "base_uri": "https://localhost:8080/"
    },
    "id": "5Tt9VyWGF2H9",
    "outputId": "b9b11bf7-b857-44b0-fccd-235257b29499"
   },
   "outputs": [
    {
     "name": "stderr",
     "output_type": "stream",
     "text": [
      "Some weights of BertForSequenceClassification were not initialized from the model checkpoint at bert-base-uncased and are newly initialized: ['classifier.bias', 'classifier.weight']\n",
      "You should probably TRAIN this model on a down-stream task to be able to use it for predictions and inference.\n"
     ]
    }
   ],
   "source": [
    "teacher = BertForSequenceClassification.from_pretrained(\n",
    "    \"bert-base-uncased\", num_labels=2\n",
    ").to(device)\n",
    "num_epochs_teacher = 5\n",
    "opt_teacher        = torch.optim.AdamW(teacher.parameters(), lr=2e-5)"
   ]
  },
  {
   "cell_type": "code",
   "execution_count": 82,
   "metadata": {
    "id": "3e6l62b2gh6o"
   },
   "outputs": [],
   "source": [
    "# Add class weights because of class imbalance\n",
    "class_weights = compute_class_weight(\n",
    "    class_weight=\"balanced\",\n",
    "    classes=np.unique(df[\"target\"]),\n",
    "    y=df[\"target\"].values\n",
    ")\n",
    "criterion_teacher = nn.CrossEntropyLoss(\n",
    "    weight=torch.tensor(class_weights, dtype=torch.float).to(device)\n",
    ")"
   ]
  },
  {
   "cell_type": "code",
   "execution_count": 83,
   "metadata": {
    "id": "EBF8cWkCG0E4"
   },
   "outputs": [
    {
     "name": "stderr",
     "output_type": "stream",
     "text": [
      "Epoch 1 Training: 100%|██████████| 5000/5000 [09:04<00:00,  9.18it/s]\n"
     ]
    },
    {
     "name": "stdout",
     "output_type": "stream",
     "text": [
      "Epoch [1/5], Loss: 0.2470\n",
      "Train Accuracy: 94.83%\n"
     ]
    },
    {
     "name": "stderr",
     "output_type": "stream",
     "text": [
      "Epoch 1 Testing: 100%|██████████| 1250/1250 [01:42<00:00, 12.25it/s]\n"
     ]
    },
    {
     "name": "stdout",
     "output_type": "stream",
     "text": [
      "Test Accuracy: 91.53%  F1: 0.918\n"
     ]
    },
    {
     "name": "stderr",
     "output_type": "stream",
     "text": [
      "Epoch 2 Training: 100%|██████████| 5000/5000 [08:49<00:00,  9.45it/s]\n"
     ]
    },
    {
     "name": "stdout",
     "output_type": "stream",
     "text": [
      "Epoch [2/5], Loss: 0.1592\n",
      "Train Accuracy: 97.78%\n"
     ]
    },
    {
     "name": "stderr",
     "output_type": "stream",
     "text": [
      "Epoch 2 Testing: 100%|██████████| 1250/1250 [01:38<00:00, 12.68it/s]\n"
     ]
    },
    {
     "name": "stdout",
     "output_type": "stream",
     "text": [
      "Test Accuracy: 91.51%  F1: 0.917\n"
     ]
    },
    {
     "name": "stderr",
     "output_type": "stream",
     "text": [
      "Epoch 3 Training: 100%|██████████| 5000/5000 [08:43<00:00,  9.56it/s]\n"
     ]
    },
    {
     "name": "stdout",
     "output_type": "stream",
     "text": [
      "Epoch [3/5], Loss: 0.0901\n",
      "Train Accuracy: 99.05%\n"
     ]
    },
    {
     "name": "stderr",
     "output_type": "stream",
     "text": [
      "Epoch 3 Testing: 100%|██████████| 1250/1250 [01:38<00:00, 12.69it/s]\n"
     ]
    },
    {
     "name": "stdout",
     "output_type": "stream",
     "text": [
      "Test Accuracy: 91.33%  F1: 0.915\n"
     ]
    },
    {
     "name": "stderr",
     "output_type": "stream",
     "text": [
      "Epoch 4 Training: 100%|██████████| 5000/5000 [08:42<00:00,  9.56it/s]\n"
     ]
    },
    {
     "name": "stdout",
     "output_type": "stream",
     "text": [
      "Epoch [4/5], Loss: 0.0543\n",
      "Train Accuracy: 99.60%\n"
     ]
    },
    {
     "name": "stderr",
     "output_type": "stream",
     "text": [
      "Epoch 4 Testing: 100%|██████████| 1250/1250 [01:38<00:00, 12.70it/s]\n"
     ]
    },
    {
     "name": "stdout",
     "output_type": "stream",
     "text": [
      "Test Accuracy: 91.25%  F1: 0.912\n"
     ]
    },
    {
     "name": "stderr",
     "output_type": "stream",
     "text": [
      "Epoch 5 Training: 100%|██████████| 5000/5000 [08:42<00:00,  9.57it/s]\n"
     ]
    },
    {
     "name": "stdout",
     "output_type": "stream",
     "text": [
      "Epoch [5/5], Loss: 0.0369\n",
      "Train Accuracy: 99.69%\n"
     ]
    },
    {
     "name": "stderr",
     "output_type": "stream",
     "text": [
      "Epoch 5 Testing: 100%|██████████| 1250/1250 [01:38<00:00, 12.72it/s]"
     ]
    },
    {
     "name": "stdout",
     "output_type": "stream",
     "text": [
      "Test Accuracy: 91.18%  F1: 0.913\n"
     ]
    },
    {
     "name": "stderr",
     "output_type": "stream",
     "text": [
      "\n"
     ]
    }
   ],
   "source": [
    "# Teacher Training Loop\n",
    "\n",
    "device = torch.device(\"cuda\" if torch.cuda.is_available() else \"cpu\")\n",
    "teacher.to(device)\n",
    "\n",
    "# Hyperparameters\n",
    "learning_rate = 2e-5\n",
    "num_epochs = 5\n",
    "optimizer = torch.optim.AdamW(teacher.parameters(), lr=learning_rate)\n",
    "weights = torch.tensor(class_weights, dtype=torch.float).to(device)\n",
    "criterion = nn.CrossEntropyLoss(weight=weights)\n",
    "\n",
    "train_teacher_accuracy, test_teacher_accuracy, teacher_f1 = [], [], []\n",
    "\n",
    "\n",
    "for epoch in range(num_epochs):\n",
    "    teacher.train()\n",
    "    running_loss = 0.0\n",
    "    for batch in tqdm(train_loader, desc=f\"Epoch {epoch+1} Training\"):\n",
    "        inputs = {k: v.to(device) for k, v in batch.items() if k != 'labels'}\n",
    "        targets = batch['labels'].to(device)\n",
    "        optimizer.zero_grad()\n",
    "        outputs = teacher(**inputs, labels=targets)\n",
    "        loss = outputs.loss\n",
    "        loss.backward()\n",
    "        optimizer.step()\n",
    "        running_loss += loss.item()\n",
    "\n",
    "    correct = total = 0\n",
    "    teacher.eval()\n",
    "    with torch.no_grad():\n",
    "        for batch in train_loader:\n",
    "            inputs = {k: v.to(device) for k, v in batch.items() if k != 'labels'}\n",
    "            targets = batch['labels'].to(device)\n",
    "            preds = teacher(**inputs).logits.argmax(1)\n",
    "            total   += targets.size(0)\n",
    "            correct += (preds == targets).sum().item()\n",
    "    train_teacher_accuracy.append(100 * correct / total)\n",
    "\n",
    "    print(f'Epoch [{epoch+1}/{num_epochs}], Loss: {running_loss / len(train_loader):.4f}')\n",
    "    print(f'Train Accuracy: {train_teacher_accuracy[-1]:.2f}%')\n",
    "\n",
    "    y_true_ep, y_pred_ep = [], []\n",
    "    with torch.no_grad():\n",
    "        for batch in tqdm(test_loader, desc=f\"Epoch {epoch+1} Testing\"):\n",
    "            inputs = {k: v.to(device) for k, v in batch.items() if k != 'labels'}\n",
    "            targets = batch['labels'].to(device)\n",
    "            outputs = teacher(**inputs).logits\n",
    "            preds   = outputs.argmax(1)\n",
    "            y_true_ep.extend(targets.cpu().numpy())\n",
    "            y_pred_ep.extend(preds.cpu().numpy())\n",
    "    acc_ep = accuracy_score(y_true_ep, y_pred_ep) * 100\n",
    "    f1_ep  = f1_score   (y_true_ep, y_pred_ep)\n",
    "    test_teacher_accuracy.append(acc_ep)\n",
    "    teacher_f1.append(f1_ep)\n",
    "    print(f'Test Accuracy: {acc_ep:.2f}%  F1: {f1_ep:.3f}')\n",
    "\n",
    "    if epoch == num_epochs - 1:\n",
    "        y_true_teacher_final = y_true_ep\n",
    "        y_pred_teacher_final = y_pred_ep\n",
    "\n",
    "cm_teacher = confusion_matrix(y_true_teacher_final, y_pred_teacher_final, labels=[0, 1])"
   ]
  },
  {
   "cell_type": "markdown",
   "metadata": {
    "id": "RFk2pU7pyDh3"
   },
   "source": [
    "## Train Small Student"
   ]
  },
  {
   "cell_type": "code",
   "execution_count": 85,
   "metadata": {
    "id": "Qgx-JPmHxgCU"
   },
   "outputs": [
    {
     "name": "stderr",
     "output_type": "stream",
     "text": [
      "Some weights of DistilBertForSequenceClassification were not initialized from the model checkpoint at distilbert-base-uncased and are newly initialized: ['classifier.bias', 'classifier.weight', 'pre_classifier.bias', 'pre_classifier.weight']\n",
      "You should probably TRAIN this model on a down-stream task to be able to use it for predictions and inference.\n"
     ]
    }
   ],
   "source": [
    "# Tokenize input\n",
    "distil_tokenizer = DistilBertTokenizerFast.from_pretrained('distilbert-base-uncased')\n",
    "train_encodings_student = distil_tokenizer(X_train.tolist(), truncation=True, padding=True, max_length=512)\n",
    "test_encodings_student  = distil_tokenizer(X_test.tolist(),  truncation=True, padding=True, max_length=512)\n",
    "\n",
    "# Wraps tokenized inputs and labels for Pytorch\n",
    "train_dataset_student = NewsDataset(train_encodings_student, y_train)\n",
    "test_dataset_student  = NewsDataset(test_encodings_student,  y_test)\n",
    "\n",
    "# Load classification model (DistilBERT)\n",
    "student = DistilBertForSequenceClassification.from_pretrained('distilbert-base-uncased', num_labels=2).to(device)"
   ]
  },
  {
   "cell_type": "code",
   "execution_count": 86,
   "metadata": {
    "id": "aWT278zbzZun"
   },
   "outputs": [
    {
     "name": "stderr",
     "output_type": "stream",
     "text": [
      "Student Epoch 1 Training: 100%|██████████| 5000/5000 [07:14<00:00, 11.50it/s]\n",
      "Student Epoch 1 Testing: 100%|██████████| 1250/1250 [00:51<00:00, 24.30it/s]\n"
     ]
    },
    {
     "name": "stdout",
     "output_type": "stream",
     "text": [
      "Epoch 1: TrainAcc=94.29%  TestAcc=90.76%  F1=0.906\n"
     ]
    },
    {
     "name": "stderr",
     "output_type": "stream",
     "text": [
      "Student Epoch 2 Training: 100%|██████████| 5000/5000 [07:16<00:00, 11.45it/s]\n",
      "Student Epoch 2 Testing: 100%|██████████| 1250/1250 [00:50<00:00, 24.82it/s]\n"
     ]
    },
    {
     "name": "stdout",
     "output_type": "stream",
     "text": [
      "Epoch 2: TrainAcc=97.14%  TestAcc=91.18%  F1=0.913\n"
     ]
    },
    {
     "name": "stderr",
     "output_type": "stream",
     "text": [
      "Student Epoch 3 Training: 100%|██████████| 5000/5000 [07:17<00:00, 11.43it/s]\n",
      "Student Epoch 3 Testing: 100%|██████████| 1250/1250 [00:51<00:00, 24.21it/s]\n"
     ]
    },
    {
     "name": "stdout",
     "output_type": "stream",
     "text": [
      "Epoch 3: TrainAcc=98.16%  TestAcc=90.74%  F1=0.906\n"
     ]
    },
    {
     "name": "stderr",
     "output_type": "stream",
     "text": [
      "Student Epoch 4 Training: 100%|██████████| 5000/5000 [07:14<00:00, 11.51it/s]\n",
      "Student Epoch 4 Testing: 100%|██████████| 1250/1250 [00:51<00:00, 24.20it/s]\n"
     ]
    },
    {
     "name": "stdout",
     "output_type": "stream",
     "text": [
      "Epoch 4: TrainAcc=98.59%  TestAcc=90.35%  F1=0.903\n"
     ]
    },
    {
     "name": "stderr",
     "output_type": "stream",
     "text": [
      "Student Epoch 5 Training: 100%|██████████| 5000/5000 [07:14<00:00, 11.51it/s]\n",
      "Student Epoch 5 Testing: 100%|██████████| 1250/1250 [00:51<00:00, 24.29it/s]"
     ]
    },
    {
     "name": "stdout",
     "output_type": "stream",
     "text": [
      "Epoch 5: TrainAcc=98.99%  TestAcc=90.87%  F1=0.910\n"
     ]
    },
    {
     "name": "stderr",
     "output_type": "stream",
     "text": [
      "\n"
     ]
    }
   ],
   "source": [
    "# Student Training Loop\n",
    "\n",
    "device = torch.device(\"cuda\" if torch.cuda.is_available() else \"cpu\")\n",
    "student.to(device)\n",
    "\n",
    "# Hyperparameters\n",
    "lr_student = 3e-5\n",
    "epochs_student = 5\n",
    "temperature = 4.0 #2.0\n",
    "alpha = 0.7 #0.5  # distillation vs. CE loss\n",
    "\n",
    "optim_student = AdamW(student.parameters(), lr=lr_student)\n",
    "criterion_ce = nn.CrossEntropyLoss(weight=weights)\n",
    "\n",
    "train_loader_stu = DataLoader(train_dataset_student, batch_size=16, shuffle=True)\n",
    "test_loader_stu  = DataLoader(test_dataset_student,  batch_size=16)\n",
    "\n",
    "train_student_accuracy, test_student_accuracy, f1_student = [], [], []\n",
    "\n",
    "teacher.eval()  # freeze teacher\n",
    "student.train()\n",
    "\n",
    "for ep in range(epochs_student):\n",
    "    student.train()\n",
    "    for batch in tqdm(train_loader_stu, desc=f\"Student Epoch {ep+1} Training\"):\n",
    "        x = {k:v.to(device) for k,v in batch.items() if k != 'labels'}\n",
    "        y = batch['labels'].to(device)\n",
    "\n",
    "        optim_student.zero_grad()\n",
    "\n",
    "        # Teacher output (no grad)\n",
    "        with torch.no_grad():\n",
    "            teacher_logits = teacher(**x).logits\n",
    "\n",
    "        # Student output\n",
    "        student_outputs = student(**x)\n",
    "        student_logits = student_outputs.logits\n",
    "\n",
    "        # Distillation loss (KL divergence on softened probabilities)\n",
    "        loss_kd = F.kl_div(\n",
    "            F.log_softmax(student_logits / temperature, dim=1),\n",
    "            F.softmax(teacher_logits / temperature, dim=1),\n",
    "            reduction=\"batchmean\"\n",
    "        ) * (temperature ** 2)\n",
    "\n",
    "        # Supervised cross-entropy loss\n",
    "        loss_ce = criterion_ce(student_logits, y)\n",
    "\n",
    "        # Combine losses\n",
    "        loss = alpha * loss_kd + (1 - alpha) * loss_ce\n",
    "        loss.backward()\n",
    "        optim_student.step()\n",
    "\n",
    "    # Evaluate on training set\n",
    "    student.eval()\n",
    "    correct = total = 0\n",
    "    with torch.no_grad():\n",
    "        for batch in train_loader_stu:\n",
    "            x = {k:v.to(device) for k,v in batch.items() if k != 'labels'}\n",
    "            y = batch['labels'].to(device)\n",
    "            preds = student(**x).logits.argmax(1)\n",
    "            total += y.size(0)\n",
    "            correct += (preds == y).sum().item()\n",
    "    train_student_accuracy.append(100 * correct / total)\n",
    "\n",
    "    # Evaluate on test set\n",
    "    y_true, y_pred = [], []\n",
    "    with torch.no_grad():\n",
    "        for batch in tqdm(test_loader_stu, desc=f\"Student Epoch {ep+1} Testing\"):\n",
    "            x = {k:v.to(device) for k,v in batch.items() if k != 'labels'}\n",
    "            y = batch['labels'].to(device)\n",
    "            preds = student(**x).logits.argmax(1)\n",
    "            y_true.extend(y.cpu().numpy())\n",
    "            y_pred.extend(preds.cpu().numpy())\n",
    "\n",
    "    acc = accuracy_score(y_true, y_pred) * 100\n",
    "    f1  = f1_score(y_true, y_pred)\n",
    "    test_student_accuracy.append(acc)\n",
    "    f1_student.append(f1)\n",
    "    print(f\"Epoch {ep+1}: TrainAcc={train_student_accuracy[-1]:.2f}%  TestAcc={acc:.2f}%  F1={f1:.3f}\")\n",
    "\n",
    "cm_student = confusion_matrix(y_true, y_pred, labels=[0,1])\n"
   ]
  },
  {
   "cell_type": "markdown",
   "metadata": {
    "id": "ImfwBrd_Dsa_"
   },
   "source": [
    "## Base DistilBert (No Distillation)"
   ]
  },
  {
   "cell_type": "code",
   "execution_count": 87,
   "metadata": {
    "id": "CRKa7JpuDzSw"
   },
   "outputs": [
    {
     "name": "stderr",
     "output_type": "stream",
     "text": [
      "Some weights of DistilBertForSequenceClassification were not initialized from the model checkpoint at distilbert-base-uncased and are newly initialized: ['classifier.bias', 'classifier.weight', 'pre_classifier.bias', 'pre_classifier.weight']\n",
      "You should probably TRAIN this model on a down-stream task to be able to use it for predictions and inference.\n"
     ]
    }
   ],
   "source": [
    "# Tokenize input\n",
    "distil_tokenizer = DistilBertTokenizerFast.from_pretrained('distilbert-base-uncased')\n",
    "train_encodings = distil_tokenizer(X_train.tolist(), truncation=True, padding=True, max_length=512)\n",
    "test_encodings  = distil_tokenizer(X_test.tolist(),  truncation=True, padding=True, max_length=512)\n",
    "\n",
    "# Wraps tokenized inputs and labels for Pytorch\n",
    "train_dataset = NewsDataset(train_encodings, y_train)\n",
    "test_dataset  = NewsDataset(test_encodings,  y_test)\n",
    "\n",
    "# Load classification model (DistilBERT)\n",
    "model = DistilBertForSequenceClassification.from_pretrained('distilbert-base-uncased', num_labels=2).to(device)"
   ]
  },
  {
   "cell_type": "code",
   "execution_count": 88,
   "metadata": {
    "id": "Zd6H7sDjEUit"
   },
   "outputs": [
    {
     "name": "stderr",
     "output_type": "stream",
     "text": [
      "Epoch 1 Training: 100%|██████████| 5000/5000 [04:35<00:00, 18.13it/s]\n"
     ]
    },
    {
     "name": "stdout",
     "output_type": "stream",
     "text": [
      "Epoch [1/5], Loss: 0.2538\n",
      "Train Accuracy: 94.82%\n"
     ]
    },
    {
     "name": "stderr",
     "output_type": "stream",
     "text": [
      "Epoch 1 Testing: 100%|██████████| 1250/1250 [00:50<00:00, 24.63it/s]\n"
     ]
    },
    {
     "name": "stdout",
     "output_type": "stream",
     "text": [
      "Test Accuracy: 91.44%  F1: 0.916\n"
     ]
    },
    {
     "name": "stderr",
     "output_type": "stream",
     "text": [
      "Epoch 2 Training: 100%|██████████| 5000/5000 [04:33<00:00, 18.26it/s]\n"
     ]
    },
    {
     "name": "stdout",
     "output_type": "stream",
     "text": [
      "Epoch [2/5], Loss: 0.1621\n",
      "Train Accuracy: 97.84%\n"
     ]
    },
    {
     "name": "stderr",
     "output_type": "stream",
     "text": [
      "Epoch 2 Testing: 100%|██████████| 1250/1250 [00:51<00:00, 24.39it/s]\n"
     ]
    },
    {
     "name": "stdout",
     "output_type": "stream",
     "text": [
      "Test Accuracy: 91.16%  F1: 0.912\n"
     ]
    },
    {
     "name": "stderr",
     "output_type": "stream",
     "text": [
      "Epoch 3 Training: 100%|██████████| 5000/5000 [04:37<00:00, 18.05it/s]\n"
     ]
    },
    {
     "name": "stdout",
     "output_type": "stream",
     "text": [
      "Epoch [3/5], Loss: 0.0939\n",
      "Train Accuracy: 99.11%\n"
     ]
    },
    {
     "name": "stderr",
     "output_type": "stream",
     "text": [
      "Epoch 3 Testing: 100%|██████████| 1250/1250 [00:50<00:00, 24.52it/s]\n"
     ]
    },
    {
     "name": "stdout",
     "output_type": "stream",
     "text": [
      "Test Accuracy: 90.77%  F1: 0.907\n"
     ]
    },
    {
     "name": "stderr",
     "output_type": "stream",
     "text": [
      "Epoch 4 Training: 100%|██████████| 5000/5000 [05:00<00:00, 16.61it/s]\n"
     ]
    },
    {
     "name": "stdout",
     "output_type": "stream",
     "text": [
      "Epoch [4/5], Loss: 0.0551\n",
      "Train Accuracy: 99.37%\n"
     ]
    },
    {
     "name": "stderr",
     "output_type": "stream",
     "text": [
      "Epoch 4 Testing: 100%|██████████| 1250/1250 [00:56<00:00, 22.24it/s]\n"
     ]
    },
    {
     "name": "stdout",
     "output_type": "stream",
     "text": [
      "Test Accuracy: 89.69%  F1: 0.894\n"
     ]
    },
    {
     "name": "stderr",
     "output_type": "stream",
     "text": [
      "Epoch 5 Training: 100%|██████████| 5000/5000 [05:10<00:00, 16.12it/s]\n"
     ]
    },
    {
     "name": "stdout",
     "output_type": "stream",
     "text": [
      "Epoch [5/5], Loss: 0.0372\n",
      "Train Accuracy: 99.49%\n"
     ]
    },
    {
     "name": "stderr",
     "output_type": "stream",
     "text": [
      "Epoch 5 Testing: 100%|██████████| 1250/1250 [00:58<00:00, 21.50it/s]"
     ]
    },
    {
     "name": "stdout",
     "output_type": "stream",
     "text": [
      "Test Accuracy: 89.61%  F1: 0.893\n"
     ]
    },
    {
     "name": "stderr",
     "output_type": "stream",
     "text": [
      "\n"
     ]
    }
   ],
   "source": [
    "# Base DistilBert Training Loop\n",
    "\n",
    "device = torch.device(\"cuda\" if torch.cuda.is_available() else \"cpu\")\n",
    "model.to(device)\n",
    "\n",
    "# Hyperparameters\n",
    "learning_rate = 3e-5\n",
    "num_epochs = 5\n",
    "optimizer = torch.optim.AdamW(model.parameters(), lr=learning_rate)\n",
    "weights = torch.tensor(class_weights, dtype=torch.float).to(device)\n",
    "criterion = nn.CrossEntropyLoss(weight=weights)\n",
    "\n",
    "train_baseDistill_accuracy, test_baseDistill_accuracy, f1_baseDistill = [], [], []\n",
    "\n",
    "train_loader = DataLoader(train_dataset, batch_size=16, shuffle=True)\n",
    "test_loader  = DataLoader(test_dataset,  batch_size=16)\n",
    "\n",
    "for epoch in range(num_epochs):\n",
    "    model.train()\n",
    "    running_loss = 0.0\n",
    "    for batch in tqdm(train_loader, desc=f\"Epoch {epoch+1} Training\"):\n",
    "        inputs = {k: v.to(device) for k, v in batch.items() if k != 'labels'}\n",
    "        targets = batch['labels'].to(device)\n",
    "        optimizer.zero_grad()\n",
    "        outputs = model(**inputs, labels=targets)\n",
    "        loss = outputs.loss\n",
    "        loss.backward()\n",
    "        optimizer.step()\n",
    "        running_loss += loss.item()\n",
    "\n",
    "    correct = total = 0\n",
    "    model.eval()\n",
    "    with torch.no_grad():\n",
    "        for batch in train_loader:\n",
    "            inputs = {k: v.to(device) for k, v in batch.items() if k != 'labels'}\n",
    "            targets = batch['labels'].to(device)\n",
    "            preds = model(**inputs).logits.argmax(1)\n",
    "            total   += targets.size(0)\n",
    "            correct += (preds == targets).sum().item()\n",
    "    train_baseDistill_accuracy.append(100 * correct / total)\n",
    "\n",
    "    print(f'Epoch [{epoch+1}/{num_epochs}], Loss: {running_loss / len(train_loader):.4f}')\n",
    "    print(f'Train Accuracy: {train_baseDistill_accuracy[-1]:.2f}%')\n",
    "\n",
    "    y_true_ep, y_pred_ep = [], []\n",
    "    with torch.no_grad():\n",
    "        for batch in tqdm(test_loader, desc=f\"Epoch {epoch+1} Testing\"):\n",
    "            inputs = {k: v.to(device) for k, v in batch.items() if k != 'labels'}\n",
    "            targets = batch['labels'].to(device)\n",
    "            outputs = model(**inputs).logits\n",
    "            preds   = outputs.argmax(1)\n",
    "            y_true_ep.extend(targets.cpu().numpy())\n",
    "            y_pred_ep.extend(preds.cpu().numpy())\n",
    "    acc_ep = accuracy_score(y_true_ep, y_pred_ep) * 100\n",
    "    f1_ep  = f1_score   (y_true_ep, y_pred_ep)\n",
    "    test_baseDistill_accuracy.append(acc_ep)\n",
    "    f1_baseDistill.append(f1_ep)\n",
    "    print(f'Test Accuracy: {acc_ep:.2f}%  F1: {f1_ep:.3f}')\n",
    "\n",
    "    if epoch == num_epochs - 1:\n",
    "        y_true_model_final = y_true_ep\n",
    "        y_pred_model_final = y_pred_ep\n",
    "\n",
    "cm_model = confusion_matrix(y_true_model_final, y_pred_model_final, labels=[0, 1])"
   ]
  },
  {
   "cell_type": "markdown",
   "metadata": {
    "id": "EqHOV1ov1L_c"
   },
   "source": [
    "## Results"
   ]
  },
  {
   "cell_type": "code",
   "execution_count": 89,
   "metadata": {
    "id": "eVhiNDRIz4Mj"
   },
   "outputs": [
    {
     "data": {
      "image/png": "[encoded data removed]",
      "text/plain": [
       "<Figure size 1200x500 with 2 Axes>"
      ]
     },
     "metadata": {},
     "output_type": "display_data"
    },
    {
     "data": {
      "image/png": "[encoded data removed]",
      "text/plain": [
       "<Figure size 600x400 with 1 Axes>"
      ]
     },
     "metadata": {},
     "output_type": "display_data"
    },
    {
     "data": {
      "image/png": "[encoded data removed]",
      "text/plain": [
       "<Figure size 1000x400 with 2 Axes>"
      ]
     },
     "metadata": {},
     "output_type": "display_data"
    }
   ],
   "source": [
    "# Combined accuracy / F1 plots\n",
    "epochs_teacher = range(1, num_epochs      + 1)\n",
    "epochs_student = range(1, epochs_student  + 1)\n",
    "epochs_model   = range(1, num_epochs      + 1)\n",
    "\n",
    "plt.figure(figsize=(12,5))\n",
    "plt.subplot(1,2,1)\n",
    "plt.plot(epochs_teacher, test_teacher_accuracy, label='Teacher')\n",
    "plt.plot(epochs_student, test_student_accuracy, label='Student')\n",
    "plt.plot(epochs_model, test_baseDistill_accuracy, label='DistilBert (Base)')\n",
    "plt.xlabel('Epoch'); plt.ylabel('Accuracy (%)'); plt.title('Test Accuracy'); plt.grid(); plt.legend()\n",
    "plt.subplot(1,2,2)\n",
    "plt.plot(epochs_teacher, teacher_f1, label='Teacher')\n",
    "plt.plot(epochs_student, f1_student,     label='Student')\n",
    "plt.plot(epochs_model, f1_baseDistill,     label='DistilBert (Base)')\n",
    "plt.xlabel('Epoch'); plt.ylabel('F1-Score'); plt.title('F1-Score'); plt.grid(); plt.legend()\n",
    "plt.tight_layout(); plt.show()\n",
    "\n",
    "plt.figure(figsize=(6,4))\n",
    "plt.plot(epochs_teacher, train_teacher_accuracy, label='Teacher Train Acc')\n",
    "plt.plot(epochs_student, train_student_accuracy, label='Student Train Acc')\n",
    "plt.plot(epochs_model, train_baseDistill_accuracy, label='DistilBert (Base) Train Acc')\n",
    "plt.xlabel('Epoch'); plt.ylabel('Accuracy (%)'); plt.title('Train Accuracy')\n",
    "plt.grid(); plt.legend(); plt.tight_layout(); plt.show()\n",
    "\n",
    "# Confusion matrices\n",
    "fig_cm, (ax1, ax2) = plt.subplots(1,2, figsize=(10,4))\n",
    "ConfusionMatrixDisplay(cm_teacher,  display_labels=['Not-Dup','Dup']).plot(ax=ax1, cmap='Blues',  colorbar=False)\n",
    "ax1.set_title('Teacher Confusion')\n",
    "ConfusionMatrixDisplay(cm_student,  display_labels=['Not-Dup','Dup']).plot(ax=ax2, cmap='Purples', colorbar=False)\n",
    "ax2.set_title('Student Confusion')\n",
    "plt.tight_layout(); plt.show()"
   ]
  },
  {
   "cell_type": "code",
   "execution_count": 90,
   "metadata": {
    "id": "CneYdJjxz84D"
   },
   "outputs": [
    {
     "name": "stdout",
     "output_type": "stream",
     "text": [
      "Final Teacher Train Accuracy : 99.69%\n",
      "Final Student Train Accuracy : 98.99%\n",
      "Final DistilBert Train Accuracy : 99.49%\n",
      "Final Teacher Test Accuracy : 91.18%\n",
      "Final Student Test Accuracy : 90.87%\n",
      "Final DistilBert Test Accuracy : 89.61%\n",
      "Final Teacher F1-score      : 0.913\n",
      "Final Student F1-score      : 0.910\n",
      "Final DistilBert F1-score   : 0.893\n"
     ]
    }
   ],
   "source": [
    "# Print Scores\n",
    "print(f\"Final Teacher Train Accuracy : {train_teacher_accuracy[-1]:.2f}%\")\n",
    "print(f\"Final Student Train Accuracy : {train_student_accuracy [-1]:.2f}%\")\n",
    "print(f\"Final DistilBert Train Accuracy : {train_baseDistill_accuracy[-1]:.2f}%\")\n",
    "print(f\"Final Teacher Test Accuracy : {test_teacher_accuracy[-1]:.2f}%\")\n",
    "print(f\"Final Student Test Accuracy : {test_student_accuracy[-1]:.2f}%\")\n",
    "print(f\"Final DistilBert Test Accuracy : {test_baseDistill_accuracy[-1]:.2f}%\")\n",
    "print(f\"Final Teacher F1-score      : {teacher_f1[-1]:.3f}\")\n",
    "print(f\"Final Student F1-score      : {f1_student[-1]:.3f}\")\n",
    "print(f\"Final DistilBert F1-score   : {f1_baseDistill[-1]:.3f}\")\n",
    "\n"
   ]
  }
 ],
 "metadata": {
  "accelerator": "GPU",
  "colab": {
   "collapsed_sections": [
    "SQr5ldpQbmmp"
   ],
   "gpuType": "T4",
   "provenance": []
  },
  "kernelspec": {
   "display_name": "Python 3 (ipykernel)",
   "language": "python",
   "name": "python3"
  },
  "language_info": {
   "codemirror_mode": {
    "name": "ipython",
    "version": 3
   },
   "file_extension": ".py",
   "mimetype": "text/x-python",
   "name": "python",
   "nbconvert_exporter": "python",
   "pygments_lexer": "ipython3",
   "version": "3.9.16"
  }
 },
 "nbformat": 4,
 "nbformat_minor": 1
}
